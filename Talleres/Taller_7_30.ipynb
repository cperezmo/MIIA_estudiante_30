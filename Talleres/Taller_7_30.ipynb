{
  "nbformat": 4,
  "nbformat_minor": 0,
  "metadata": {
    "kernelspec": {
      "display_name": "Python 3 (ipykernel)",
      "language": "python",
      "name": "python3"
    },
    "language_info": {
      "codemirror_mode": {
        "name": "ipython",
        "version": 3
      },
      "file_extension": ".py",
      "mimetype": "text/x-python",
      "name": "python",
      "nbconvert_exporter": "python",
      "pygments_lexer": "ipython3",
      "version": "3.8.10"
    },
    "colab": {
      "name": "Taller7 Carlos Pérez_Avance 1.ipynb",
      "provenance": [],
      "collapsed_sections": []
    }
  },
  "cells": [
    {
      "cell_type": "markdown",
      "metadata": {
        "deletable": false,
        "editable": false,
        "nbgrader": {
          "cell_type": "markdown",
          "checksum": "c155bbf38a711e7a5539f9ee428eab7f",
          "grade": false,
          "grade_id": "head",
          "locked": true,
          "schema_version": 3,
          "solution": false,
          "task": false
        },
        "id": "wNyuXTUJfyXb"
      },
      "source": [
        "<img src=\"Archivos/miad4.png\" width=800x>\n",
        "\n",
        "# Modificar, limpiar y unir datos utilizando `pandas`\n",
        "\n",
        "En este taller modificarás, limpiarás y unirás bases de datos al resolver diversos ejercicios."
      ]
    },
    {
      "cell_type": "markdown",
      "metadata": {
        "deletable": false,
        "editable": false,
        "nbgrader": {
          "cell_type": "markdown",
          "checksum": "4b853139be59d87a9bd8cb1cc49cdf26",
          "grade": false,
          "grade_id": "objs",
          "locked": true,
          "schema_version": 3,
          "solution": false,
          "task": false
        },
        "id": "-n9aPKusfyYV"
      },
      "source": [
        "## Habilidades en práctica\n",
        "\n",
        "Al realizar este taller podrás revisar tu progreso para:\n",
        "\n",
        "**1.** Modificar cadenas de texto contenidas en un `Series`.<br>\n",
        "**2.** Representar fechas utilizando el paquete `datetime`.<br>\n",
        "**3.** Imputar datos faltantes en un `DataFrame`.<br>\n",
        "**4.** Unir dos `DataFrame` por coincidencia de filas o columnas."
      ]
    },
    {
      "cell_type": "markdown",
      "metadata": {
        "deletable": false,
        "editable": false,
        "nbgrader": {
          "cell_type": "markdown",
          "checksum": "bcb4ba9a949952cd571586ac198d5cdb",
          "grade": false,
          "grade_id": "dir",
          "locked": true,
          "schema_version": 3,
          "solution": false,
          "task": false
        },
        "id": "h4l2KfRjfyYX"
      },
      "source": [
        "## Instrucciones\n",
        "\n",
        "En cada uno de los siguientes ejercicios deberás escribir el código solicitado estrictamente en las celdas indicadas para ello, teniendo en cuenta las siguientes recomendaciones:\n",
        "\n",
        "* No crear, eliminar o modificar celdas de este Notebook (salvo lo que se te indique), pues puede verse afectado el proceso de calificación automática.\n",
        "\n",
        "* La calificación se realiza de manera automática con datos diferentes a los proporcionados en este taller. Por consiguiente, tu código debe funcionar para diferentes instancias de cada uno de los ejercicios; una instancia hace referencia a los posibles valores de los parámetros.\n",
        "\n",
        "* La calificación de cada ejercicio depende del valor que retorne la función especificada en su enunciado. Por lo tanto, aunque implementes funciones adicionales, es escencial que utilices los nombres propuestos en los enunciados de los ejercicios para implementar la función definitiva."
      ]
    },
    {
      "cell_type": "markdown",
      "metadata": {
        "deletable": false,
        "editable": false,
        "nbgrader": {
          "cell_type": "markdown",
          "checksum": "79556565fe9714edf38ed7189bdce57a",
          "grade": false,
          "grade_id": "go",
          "locked": true,
          "schema_version": 3,
          "solution": false,
          "task": false
        },
        "id": "QwRyColQfyYZ"
      },
      "source": [
        "## Ejercicios\n",
        "En la siguente celda encuentras declarados los paquetes necesarios para el desarollo de este taller."
      ]
    },
    {
      "cell_type": "code",
      "metadata": {
        "deletable": false,
        "editable": false,
        "nbgrader": {
          "cell_type": "code",
          "checksum": "b4f4608a9a73988678124fcf2e60b7ba",
          "grade": false,
          "grade_id": "import",
          "locked": true,
          "schema_version": 3,
          "solution": false,
          "task": false
        },
        "id": "CYv7UwnLfyYb"
      },
      "source": [
        "import numpy as np\n",
        "import pandas as pd\n",
        "from datetime import datetime"
      ],
      "execution_count": 1,
      "outputs": []
    },
    {
      "cell_type": "markdown",
      "metadata": {
        "deletable": false,
        "editable": false,
        "nbgrader": {
          "cell_type": "markdown",
          "checksum": "802e633db422f7a2a737a944b63e9c45",
          "grade": false,
          "grade_id": "ej1_enun",
          "locked": true,
          "schema_version": 3,
          "solution": false,
          "task": false
        },
        "id": "U_JccuBBfyYg"
      },
      "source": [
        "### Ejercicio 1\n",
        "\n",
        "En la siguiente celda encuentras declarados dos `DataFrame` que almacenan los datos de los clientes de un negocio."
      ]
    },
    {
      "cell_type": "code",
      "metadata": {
        "deletable": false,
        "editable": false,
        "nbgrader": {
          "cell_type": "code",
          "checksum": "d96ac1cee2065ad5acde780557b48e57",
          "grade": false,
          "grade_id": "ej1_data",
          "locked": true,
          "schema_version": 3,
          "solution": false,
          "task": false
        },
        "id": "56tI2jKnfyYh"
      },
      "source": [
        "orden_cliente = pd.DataFrame([[70001, 3002],\n",
        "                              [70002, 3001],\n",
        "                              [70003, 3001],\n",
        "                              [70004, 3003],\n",
        "                              [70005, 3003]],\n",
        "                              columns = ['no_orden', 'id_cliente'])\n",
        "\n",
        "cliente_categoria = pd.DataFrame([[3001, \"Platino\"],\n",
        "                                  [3002, \"Oro\"    ],\n",
        "                                  [3003, \"Oro\"    ],\n",
        "                                  [3004, \"Bronce\" ]],\n",
        "                                  columns = ['id_cliente', 'Categoría Cliente'])"
      ],
      "execution_count": 2,
      "outputs": []
    },
    {
      "cell_type": "markdown",
      "metadata": {
        "deletable": false,
        "editable": false,
        "nbgrader": {
          "cell_type": "markdown",
          "checksum": "9a48fa096244b7136c89123bb77eeb5e",
          "grade": false,
          "grade_id": "ej1_task",
          "locked": true,
          "schema_version": 3,
          "solution": false,
          "task": false
        },
        "id": "AVvdsHknfyYl"
      },
      "source": [
        "Implementa una función llamada `union_derecha` que reciba por parámetro dos `DataFrame` como los declarados en la celda anterior y que retorne un `DataFrame` resultado de la unión, donde se preserven todas las filas del segundo `DataFrame` y solo las que coincidan del primer `DataFrame`. La coincidencia debe hacerse evaluando la columna \"id_cliente\".\n",
        "\n",
        "La función debe retornar un `DataFrame`."
      ]
    },
    {
      "cell_type": "code",
      "metadata": {
        "deletable": false,
        "nbgrader": {
          "cell_type": "code",
          "checksum": "4063799019c88621b8c7eff51cc505a9",
          "grade": false,
          "grade_id": "ej1_sol",
          "locked": false,
          "schema_version": 3,
          "solution": true,
          "task": false
        },
        "colab": {
          "base_uri": "https://localhost:8080/",
          "height": 368
        },
        "id": "_0kFewZGfyYo",
        "outputId": "403e23da-9fd9-405a-bc55-dae6fd18ab6f"
      },
      "source": [
        "# YOUR CODE HERE\n",
        "def union_derecha(dataframe1,dataframe2):\n",
        "  dataframe1 = dataframe1.merge(dataframe2, how = 'right', on = 'id_cliente')\n",
        "  print(dataframe1)\n",
        "  print()\n",
        "  return dataframe1\n",
        "\n",
        "union_derecha(orden_cliente,cliente_categoria)"
      ],
      "execution_count": 11,
      "outputs": [
        {
          "output_type": "stream",
          "name": "stdout",
          "text": [
            "   no_orden  id_cliente Categoría Cliente\n",
            "0   70002.0        3001           Platino\n",
            "1   70003.0        3001           Platino\n",
            "2   70001.0        3002               Oro\n",
            "3   70004.0        3003               Oro\n",
            "4   70005.0        3003               Oro\n",
            "5       NaN        3004            Bronce\n",
            "\n"
          ]
        },
        {
          "output_type": "execute_result",
          "data": {
            "text/html": [
              "<div>\n",
              "<style scoped>\n",
              "    .dataframe tbody tr th:only-of-type {\n",
              "        vertical-align: middle;\n",
              "    }\n",
              "\n",
              "    .dataframe tbody tr th {\n",
              "        vertical-align: top;\n",
              "    }\n",
              "\n",
              "    .dataframe thead th {\n",
              "        text-align: right;\n",
              "    }\n",
              "</style>\n",
              "<table border=\"1\" class=\"dataframe\">\n",
              "  <thead>\n",
              "    <tr style=\"text-align: right;\">\n",
              "      <th></th>\n",
              "      <th>no_orden</th>\n",
              "      <th>id_cliente</th>\n",
              "      <th>Categoría Cliente</th>\n",
              "    </tr>\n",
              "  </thead>\n",
              "  <tbody>\n",
              "    <tr>\n",
              "      <th>0</th>\n",
              "      <td>70002.0</td>\n",
              "      <td>3001</td>\n",
              "      <td>Platino</td>\n",
              "    </tr>\n",
              "    <tr>\n",
              "      <th>1</th>\n",
              "      <td>70003.0</td>\n",
              "      <td>3001</td>\n",
              "      <td>Platino</td>\n",
              "    </tr>\n",
              "    <tr>\n",
              "      <th>2</th>\n",
              "      <td>70001.0</td>\n",
              "      <td>3002</td>\n",
              "      <td>Oro</td>\n",
              "    </tr>\n",
              "    <tr>\n",
              "      <th>3</th>\n",
              "      <td>70004.0</td>\n",
              "      <td>3003</td>\n",
              "      <td>Oro</td>\n",
              "    </tr>\n",
              "    <tr>\n",
              "      <th>4</th>\n",
              "      <td>70005.0</td>\n",
              "      <td>3003</td>\n",
              "      <td>Oro</td>\n",
              "    </tr>\n",
              "    <tr>\n",
              "      <th>5</th>\n",
              "      <td>NaN</td>\n",
              "      <td>3004</td>\n",
              "      <td>Bronce</td>\n",
              "    </tr>\n",
              "  </tbody>\n",
              "</table>\n",
              "</div>"
            ],
            "text/plain": [
              "   no_orden  id_cliente Categoría Cliente\n",
              "0   70002.0        3001           Platino\n",
              "1   70003.0        3001           Platino\n",
              "2   70001.0        3002               Oro\n",
              "3   70004.0        3003               Oro\n",
              "4   70005.0        3003               Oro\n",
              "5       NaN        3004            Bronce"
            ]
          },
          "metadata": {},
          "execution_count": 11
        }
      ]
    },
    {
      "cell_type": "code",
      "metadata": {
        "deletable": false,
        "editable": false,
        "nbgrader": {
          "cell_type": "code",
          "checksum": "e7201097b35ee23a8a7836e1d500bcb2",
          "grade": true,
          "grade_id": "ej1_test",
          "locked": true,
          "points": 1,
          "schema_version": 3,
          "solution": false,
          "task": false
        },
        "colab": {
          "base_uri": "https://localhost:8080/",
          "height": 1000
        },
        "id": "80aU7KxOfyYp",
        "outputId": "ef34deba-df29-4cdd-e225-9f2f80df2023"
      },
      "source": [
        "## AUTO-CALIFICADOR\n",
        "\n",
        "# Base variables\n",
        "orden_cliente = pd.DataFrame([[70001, 3002],\n",
        "                              [70002, 3001],\n",
        "                              [70003, 3001],\n",
        "                              [70004, 3003],\n",
        "                              [70005, 3003]],\n",
        "                              columns = ['no_orden', 'id_cliente'])\n",
        "\n",
        "cliente_categoria = pd.DataFrame([[3001, \"Platino\"],\n",
        "                                  [3002, \"Oro\"    ],\n",
        "                                  [3003, \"Oro\"    ],\n",
        "                                  [3004, \"Bronce\" ]],\n",
        "                                  columns = ['id_cliente', 'Categoría Cliente'])\n",
        "\n",
        "orden_cliente_prueba= pd.DataFrame([[70001, 3002],\n",
        "                                    [70002, 3002],\n",
        "                                    [70003, 3001],\n",
        "                                    [70004, 3000],\n",
        "                                    [70006, 3004]],\n",
        "                                   columns = ['no_orden', 'id_cliente'])\n",
        "\n",
        "cliente_categoria_prueba = pd.DataFrame([[3001, \"Platino\"],\n",
        "                                         [3002, \"Oro\"    ],\n",
        "                                         [3000, \"Oro\"    ],\n",
        "                                         [3001, \"Bronce\" ]],\n",
        "                                        columns = ['id_cliente', 'Categoría Cliente'])\n",
        "\n",
        "# Caso 1: no existe la función.\n",
        "try:\n",
        "    union_derecha\n",
        "    assert type(union_derecha) == type(lambda:None)\n",
        "except:\n",
        "    raise NotImplementedError(\"No existe una función llamada union_derecha.\",)\n",
        "    \n",
        "# Caso 2: la función es interrumpida por errores durante su ejecución.\n",
        "try:\n",
        "    union_derecha(orden_cliente, cliente_categoria)\n",
        "except:\n",
        "    raise RuntimeError(\"Tu función produce un error al ejecutarse.\")\n",
        "\n",
        "# Caso 3: no retorna un DataFrame.\n",
        "assert type(union_derecha(orden_cliente, cliente_categoria)) == type(orden_cliente), f\"Tu función debe retornar un objeto de tipo '{type(orden_cliente).__name__}'.\"\n",
        "\n",
        "# Caso 4: retorna un dataframe con cantidad de columnas errada\n",
        "assert union_derecha(orden_cliente, cliente_categoria).shape[1] == 3, \"Tu función retorna un DataFrame con cantidad de columnas errada.\"\n",
        "assert union_derecha(orden_cliente_prueba, cliente_categoria_prueba).shape[1] == 3, \"Tu función retorna un DataFrame con cantidad de columnas errada.\"\n",
        "\n",
        "# Caso 5: devuelve un dataframe con cantidad de filas errada\n",
        "assert union_derecha(orden_cliente, cliente_categoria).shape[0] == 6, \"Tu función retorna un DataFrame con cantidad de filas errada.\"\n",
        "assert union_derecha(orden_cliente_prueba, cliente_categoria_prueba).shape[0] == 5, \"Tu función retorna un DataFrame con cantidad de filas errada.\"\n",
        "\n",
        "# Caso 6: retorna los valores que son (dfs prueba)\n",
        "assert union_derecha(orden_cliente_prueba, cliente_categoria_prueba).iat[4,2] == 'Bronce', \"Tu función retorna un DataFrame con valores distintos a los esperados.\"\n",
        "assert union_derecha(orden_cliente_prueba, cliente_categoria_prueba).iat[4,1] == 3001, \"Tu función retorna un DataFrame con valores distintos a los esperados.\"\n",
        "\n",
        "\n",
        "print(\"Felicidades, realizaste este ejercicio correctamente.\")"
      ],
      "execution_count": 12,
      "outputs": [
        {
          "output_type": "stream",
          "name": "stdout",
          "text": [
            "   no_orden  id_cliente Categoría Cliente\n",
            "0   70002.0        3001           Platino\n",
            "1   70003.0        3001           Platino\n",
            "2   70001.0        3002               Oro\n",
            "3   70004.0        3003               Oro\n",
            "4   70005.0        3003               Oro\n",
            "5       NaN        3004            Bronce\n",
            "\n",
            "   no_orden  id_cliente Categoría Cliente\n",
            "0   70002.0        3001           Platino\n",
            "1   70003.0        3001           Platino\n",
            "2   70001.0        3002               Oro\n",
            "3   70004.0        3003               Oro\n",
            "4   70005.0        3003               Oro\n",
            "5       NaN        3004            Bronce\n",
            "\n",
            "   no_orden  id_cliente Categoría Cliente\n",
            "0   70002.0        3001           Platino\n",
            "1   70003.0        3001           Platino\n",
            "2   70001.0        3002               Oro\n",
            "3   70004.0        3003               Oro\n",
            "4   70005.0        3003               Oro\n",
            "5       NaN        3004            Bronce\n",
            "\n",
            "   no_orden  id_cliente Categoría Cliente\n",
            "0     70003        3001           Platino\n",
            "1     70003        3001            Bronce\n",
            "2     70001        3002               Oro\n",
            "3     70002        3002               Oro\n",
            "4     70004        3000               Oro\n",
            "\n",
            "   no_orden  id_cliente Categoría Cliente\n",
            "0   70002.0        3001           Platino\n",
            "1   70003.0        3001           Platino\n",
            "2   70001.0        3002               Oro\n",
            "3   70004.0        3003               Oro\n",
            "4   70005.0        3003               Oro\n",
            "5       NaN        3004            Bronce\n",
            "\n",
            "   no_orden  id_cliente Categoría Cliente\n",
            "0     70003        3001           Platino\n",
            "1     70003        3001            Bronce\n",
            "2     70001        3002               Oro\n",
            "3     70002        3002               Oro\n",
            "4     70004        3000               Oro\n",
            "\n",
            "   no_orden  id_cliente Categoría Cliente\n",
            "0     70003        3001           Platino\n",
            "1     70003        3001            Bronce\n",
            "2     70001        3002               Oro\n",
            "3     70002        3002               Oro\n",
            "4     70004        3000               Oro\n",
            "\n"
          ]
        },
        {
          "output_type": "error",
          "ename": "AssertionError",
          "evalue": "ignored",
          "traceback": [
            "\u001b[0;31m---------------------------------------------------------------------------\u001b[0m",
            "\u001b[0;31mAssertionError\u001b[0m                            Traceback (most recent call last)",
            "\u001b[0;32m<ipython-input-12-f2e556d3342c>\u001b[0m in \u001b[0;36m<module>\u001b[0;34m()\u001b[0m\n\u001b[1;32m     53\u001b[0m \u001b[0;34m\u001b[0m\u001b[0m\n\u001b[1;32m     54\u001b[0m \u001b[0;31m# Caso 6: retorna los valores que son (dfs prueba)\u001b[0m\u001b[0;34m\u001b[0m\u001b[0;34m\u001b[0m\u001b[0;34m\u001b[0m\u001b[0m\n\u001b[0;32m---> 55\u001b[0;31m \u001b[0;32massert\u001b[0m \u001b[0munion_derecha\u001b[0m\u001b[0;34m(\u001b[0m\u001b[0morden_cliente_prueba\u001b[0m\u001b[0;34m,\u001b[0m \u001b[0mcliente_categoria_prueba\u001b[0m\u001b[0;34m)\u001b[0m\u001b[0;34m.\u001b[0m\u001b[0miat\u001b[0m\u001b[0;34m[\u001b[0m\u001b[0;36m4\u001b[0m\u001b[0;34m,\u001b[0m\u001b[0;36m2\u001b[0m\u001b[0;34m]\u001b[0m \u001b[0;34m==\u001b[0m \u001b[0;34m'Bronce'\u001b[0m\u001b[0;34m,\u001b[0m \u001b[0;34m\"Tu función retorna un DataFrame con valores distintos a los esperados.\"\u001b[0m\u001b[0;34m\u001b[0m\u001b[0;34m\u001b[0m\u001b[0m\n\u001b[0m\u001b[1;32m     56\u001b[0m \u001b[0;32massert\u001b[0m \u001b[0munion_derecha\u001b[0m\u001b[0;34m(\u001b[0m\u001b[0morden_cliente_prueba\u001b[0m\u001b[0;34m,\u001b[0m \u001b[0mcliente_categoria_prueba\u001b[0m\u001b[0;34m)\u001b[0m\u001b[0;34m.\u001b[0m\u001b[0miat\u001b[0m\u001b[0;34m[\u001b[0m\u001b[0;36m4\u001b[0m\u001b[0;34m,\u001b[0m\u001b[0;36m1\u001b[0m\u001b[0;34m]\u001b[0m \u001b[0;34m==\u001b[0m \u001b[0;36m3001\u001b[0m\u001b[0;34m,\u001b[0m \u001b[0;34m\"Tu función retorna un DataFrame con valores distintos a los esperados.\"\u001b[0m\u001b[0;34m\u001b[0m\u001b[0;34m\u001b[0m\u001b[0m\n\u001b[1;32m     57\u001b[0m \u001b[0;34m\u001b[0m\u001b[0m\n",
            "\u001b[0;31mAssertionError\u001b[0m: Tu función retorna un DataFrame con valores distintos a los esperados."
          ]
        }
      ]
    },
    {
      "cell_type": "markdown",
      "metadata": {
        "deletable": false,
        "editable": false,
        "nbgrader": {
          "cell_type": "markdown",
          "checksum": "f492a70e13697eb3e6e254d5f7c2d837",
          "grade": false,
          "grade_id": "ej2_enun",
          "locked": true,
          "schema_version": 3,
          "solution": false,
          "task": false
        },
        "id": "iuaEauKtfyYs"
      },
      "source": [
        "### Ejercicio 2\n",
        "\n",
        "En la siguiente celda encuentras declarados dos `DataFrame` que almacenan los datos de los clientes de un negocio."
      ]
    },
    {
      "cell_type": "code",
      "metadata": {
        "deletable": false,
        "editable": false,
        "nbgrader": {
          "cell_type": "code",
          "checksum": "798eb8facbaaae139d1edbfe98fa8e30",
          "grade": false,
          "grade_id": "ej2_data",
          "locked": true,
          "schema_version": 3,
          "solution": false,
          "task": false
        },
        "id": "6LjiQ0tlfyYt"
      },
      "source": [
        "cliente_categoria_orden = pd.DataFrame([[3002, \"Platino\", 70001],\n",
        "                                        [3004, \"Oro\",     70002],\n",
        "                                        [3003, \"Oro\",     70003]],\n",
        "                                        columns = ['id_cliente', 'Categoría Cliente', 'no_orden'])\n",
        "    \n",
        "cliente_categoria = pd.DataFrame([[3006, \"Oro\"    ],\n",
        "                                  [3001, \"Oro\"    ],\n",
        "                                  [3005, \"Platino\"],\n",
        "                                  [3007, \"Platino\"]],\n",
        "                                  columns = ['id_cliente', 'Categoría Cliente'])"
      ],
      "execution_count": 13,
      "outputs": []
    },
    {
      "cell_type": "markdown",
      "metadata": {
        "deletable": false,
        "editable": false,
        "nbgrader": {
          "cell_type": "markdown",
          "checksum": "3a2f23da8b02b6941b12d32cd4e1c986",
          "grade": false,
          "grade_id": "ej2_task",
          "locked": true,
          "schema_version": 3,
          "solution": false,
          "task": false
        },
        "id": "JbKW6_6hfyYv"
      },
      "source": [
        "Implementa una función llamada `concatenar_interno` que reciba por parámetro dos `DataFrame` como los declarados en la celda anterior y que retorne un `DataFrame` resultado de la unión, donde se preserven las filas de ambos `DataFrame`.\n",
        "\n",
        "La función deber retornar un `DataFrame` con las **columnas** que existan en ambos `DataFrame` y todas las filas de ambos."
      ]
    },
    {
      "cell_type": "code",
      "metadata": {
        "deletable": false,
        "nbgrader": {
          "cell_type": "code",
          "checksum": "bd7407e2aa61722de1b2bbf1c7022714",
          "grade": false,
          "grade_id": "ej2_sol",
          "locked": false,
          "schema_version": 3,
          "solution": true,
          "task": false
        },
        "colab": {
          "base_uri": "https://localhost:8080/"
        },
        "id": "lis6XhaofyYw",
        "outputId": "181a9a42-a636-42f4-9a32-324a511e792e"
      },
      "source": [
        "# YOUR CODE HERE\n",
        "\n",
        "def concatenar_interno(dataframe1, dataframe2):\n",
        "  dataframe1 = pd.concat([dataframe1,dataframe2], join = \"inner\")\n",
        "  return dataframe1\n",
        "\n",
        "df_prueba = concatenar_interno(cliente_categoria_orden, cliente_categoria)\n",
        "print(df_prueba)\n"
      ],
      "execution_count": 14,
      "outputs": [
        {
          "output_type": "stream",
          "name": "stdout",
          "text": [
            "   id_cliente Categoría Cliente\n",
            "0        3002           Platino\n",
            "1        3004               Oro\n",
            "2        3003               Oro\n",
            "0        3006               Oro\n",
            "1        3001               Oro\n",
            "2        3005           Platino\n",
            "3        3007           Platino\n"
          ]
        }
      ]
    },
    {
      "cell_type": "code",
      "metadata": {
        "deletable": false,
        "editable": false,
        "nbgrader": {
          "cell_type": "code",
          "checksum": "f3ad475aae523c03707b6451b8853431",
          "grade": true,
          "grade_id": "ej2_test",
          "locked": true,
          "points": 1,
          "schema_version": 3,
          "solution": false,
          "task": false
        },
        "colab": {
          "base_uri": "https://localhost:8080/"
        },
        "id": "p8UvFwwYfyYx",
        "outputId": "4e96d109-8d8e-4fe7-c2ba-d23ac658001c"
      },
      "source": [
        "## AUTO-CALIFICADOR\n",
        "\n",
        "# Base variables\n",
        "cliente_categoria_orden = pd.DataFrame([[3002, \"Platino\", 70001],\n",
        "                                        [3004, \"Oro\",     70002],\n",
        "                                        [3003, \"Oro\",     70003]],\n",
        "                                        columns = ['id_cliente', 'Categoría Cliente', 'no_orden'])\n",
        "    \n",
        "cliente_categoria = pd.DataFrame([[3006, \"Oro\"    ],\n",
        "                                  [3001, \"Oro\"    ],\n",
        "                                  [3005, \"Platino\"]],\n",
        "                                  columns = ['id_cliente', 'Categoría Cliente'])\n",
        "\n",
        "cliente_categoria_orden_prueba = pd.DataFrame([[3002, \"Platino\", 70001],\n",
        "                                        [3004, \"Oro\",     70002],\n",
        "                                        [3003, \"Oro\",     70003]],\n",
        "                                        columns = ['id_cliente', 'Categoría Cliente', 'no_orden'])\n",
        "    \n",
        "cliente_categoria_prueba = pd.DataFrame([[3006, 70006],\n",
        "                                  [3001, 70007],\n",
        "                                  [3009, 70008]],\n",
        "                                  columns = ['id_cliente', 'no_orden'])\n",
        "\n",
        "# Caso 1: no existe la función.\n",
        "try:\n",
        "    concatenar_interno\n",
        "    assert type(concatenar_interno) == type(lambda:None)\n",
        "except:\n",
        "    raise NotImplementedError(\"No existe una función llamada union_interna.\",)\n",
        "    \n",
        "# Caso 2: la función es interrumpida por errores durante su ejecución.\n",
        "try:\n",
        "    concatenar_interno(cliente_categoria_orden, cliente_categoria)\n",
        "except:\n",
        "    raise RuntimeError(\"Tu función produce un error al ejecutarse.\")\n",
        "\n",
        "# Caso 3: no retorna un DataFrame.\n",
        "assert type(concatenar_interno(cliente_categoria_orden, cliente_categoria)) == type(cliente_categoria), f\"Tu función debe retornar un objeto de tipo '{type(orden_cliente).__name__}'.\"\n",
        "\n",
        "# Caso 4: retorna un dataframe con cantidad de columnas errada\n",
        "assert concatenar_interno(cliente_categoria_orden, cliente_categoria).shape[1] == 2, \"Tu función retorna un DataFrame con cantidad de columnas errada.\"\n",
        "\n",
        "# Caso 5: devuelve un dataframe con cantidad de filas errada\n",
        "assert concatenar_interno(cliente_categoria_orden, cliente_categoria).shape[0] == 6, \"Tu función retorna un DataFrame con cantidad de filas errada.\"\n",
        "\n",
        "# Caso 7: devuelve un dataframe cuyas columnas tienen nombre distinto de lo esperado (dfs prueba)\n",
        "assert [*concatenar_interno(cliente_categoria_orden_prueba, cliente_categoria_prueba).columns] == ['id_cliente','no_orden'], \"Tu función retorna un DataFrame con las columnas incorrectas.\"\n",
        "\n",
        "\n",
        "#Caso 8: retorna un dataframe con los valores correctos (dfs prueba)\n",
        "assert concatenar_interno(cliente_categoria_orden_prueba, cliente_categoria_prueba).iat[1,1] == 70002, \"Tu función retorna un DataFrame con los valores incorrectos.\"\n",
        "assert concatenar_interno(cliente_categoria_orden_prueba, cliente_categoria_prueba).iat[5,0] == 3009,\"Tu función retorna un DataFrame con los valores incorrectos.\"\n",
        "\n",
        "print(\"Felicidades, realizaste este ejercicio correctamente.\")\n"
      ],
      "execution_count": 15,
      "outputs": [
        {
          "output_type": "stream",
          "name": "stdout",
          "text": [
            "Felicidades, realizaste este ejercicio correctamente.\n"
          ]
        }
      ]
    },
    {
      "cell_type": "markdown",
      "metadata": {
        "deletable": false,
        "editable": false,
        "nbgrader": {
          "cell_type": "markdown",
          "checksum": "65822319a7255b5a238813c467c393d4",
          "grade": false,
          "grade_id": "ej3_enun",
          "locked": true,
          "schema_version": 3,
          "solution": false,
          "task": false
        },
        "id": "XUMvEYcVfyY4"
      },
      "source": [
        "### Ejercicio 3\n",
        "\n",
        "En la siguiente celda encuentras declarado un `DataFrame` que almacenan en las filas las ventas diarias de los tres principales productos de un negocio."
      ]
    },
    {
      "cell_type": "code",
      "metadata": {
        "deletable": false,
        "editable": false,
        "nbgrader": {
          "cell_type": "code",
          "checksum": "abc8927aee7476cbd4b192dd3857df08",
          "grade": false,
          "grade_id": "ej3_data",
          "locked": true,
          "schema_version": 3,
          "solution": false,
          "task": false
        },
        "id": "lgky-aHEfyY5"
      },
      "source": [
        "\n",
        "ventas = pd.DataFrame([[2600.0,  12200.0, 6000.0],\n",
        "                       [11200.0, 9000.0,  600.0 ],\n",
        "                       [np.nan,  8000.0,  3000.0],\n",
        "                       [4000.0,  np.nan,  np.nan],\n",
        "                       [np.nan,  10000.0, 2000.0]],\n",
        "                      columns = [\"Producto 1\", \"Producto 2\", \"Producto 3\"])"
      ],
      "execution_count": 16,
      "outputs": []
    },
    {
      "cell_type": "markdown",
      "metadata": {
        "deletable": false,
        "editable": false,
        "nbgrader": {
          "cell_type": "markdown",
          "checksum": "20eca92a9ffeb9a0e8ccb0a78286e2da",
          "grade": false,
          "grade_id": "ej3_task",
          "locked": true,
          "schema_version": 3,
          "solution": false,
          "task": false
        },
        "id": "Nsa1gCMzfyZR"
      },
      "source": [
        "Implementa una función llamada `mediana_faltantes` que reciba por parámetro un `DataFrame` como el declarado en la celda anterior, complete los datos faltantes del `DataFrame` con la mediana de su columna respectiva y lo retorne.\n",
        "\n",
        "La función deber retornar un `DataFrame` sin datos faltantes."
      ]
    },
    {
      "cell_type": "code",
      "metadata": {
        "deletable": false,
        "nbgrader": {
          "cell_type": "code",
          "checksum": "fbf80806cef8ca831be2fd7d3adb3aae",
          "grade": false,
          "grade_id": "ej3_sol",
          "locked": false,
          "schema_version": 3,
          "solution": true,
          "task": false
        },
        "colab": {
          "base_uri": "https://localhost:8080/"
        },
        "id": "QKVOx9offyZS",
        "outputId": "8b18e4c3-d106-449e-e583-268ad8bd4885"
      },
      "source": [
        "# YOUR CODE HERE\n",
        "\n",
        "def mediana_faltantes(dataframe):\n",
        "  dataframe = dataframe.fillna(dataframe.median())\n",
        "  return dataframe\n",
        "\n",
        "print(mediana_faltantes(ventas))\n"
      ],
      "execution_count": 17,
      "outputs": [
        {
          "output_type": "stream",
          "name": "stdout",
          "text": [
            "   Producto 1  Producto 2  Producto 3\n",
            "0      2600.0     12200.0      6000.0\n",
            "1     11200.0      9000.0       600.0\n",
            "2      4000.0      8000.0      3000.0\n",
            "3      4000.0      9500.0      2500.0\n",
            "4      4000.0     10000.0      2000.0\n"
          ]
        }
      ]
    },
    {
      "cell_type": "code",
      "metadata": {
        "deletable": false,
        "editable": false,
        "nbgrader": {
          "cell_type": "code",
          "checksum": "97ab467486690bd633c8c70d71e942ef",
          "grade": true,
          "grade_id": "ej3_test",
          "locked": true,
          "points": 1,
          "schema_version": 3,
          "solution": false,
          "task": false
        },
        "colab": {
          "base_uri": "https://localhost:8080/"
        },
        "id": "O9QMnkXvfyZU",
        "outputId": "e999476d-0eac-49eb-d9bb-1e0146f00893"
      },
      "source": [
        "## AUTO-CALIFICADOR\n",
        "\n",
        "# Base variables\n",
        "ventas = pd.DataFrame([[2600.0,  12200.0, 6000.0],\n",
        "                       [11200.0, 9000.0,  600.0 ],\n",
        "                       [np.nan,  8000.0,  3000.0],\n",
        "                       [4000.0,  np.nan,  np.nan],\n",
        "                       [np.nan,  10000.0, 2000.0]],\n",
        "                      columns = [\"Producto 1\", \"Producto 2\", \"Producto 3\"])\n",
        "\n",
        "ventas_prueba = pd.DataFrame([[2600.0,  12200.0, 6000.0],\n",
        "                       [11200.0, 9000.0,  6000.0 ],\n",
        "                       [3000.0,  8000.0,  np.nan],\n",
        "                       [np.nan,  np.nan,  6500.0],\n",
        "                       [np.nan,  12000.0, 2000.0]],\n",
        "                      columns = [\"Producto 1\", \"Producto 2\", \"Producto 3\"])\n",
        "\n",
        "# Caso 1: no existe la función.\n",
        "try:\n",
        "    mediana_faltantes\n",
        "    assert type(mediana_faltantes) == type(lambda:None)\n",
        "except:\n",
        "    raise NotImplementedError(\"No existe una función llamada mediana_faltantes.\",)\n",
        "\n",
        "# Caso 2: la función es interrumpida por errores durante su ejecución.\n",
        "try:\n",
        "    mediana_faltantes(ventas)\n",
        "except:\n",
        "    raise RuntimeError(\"Tu función produce un error al ejecutarse.\")\n",
        "\n",
        "# Caso 3: no retorna un DataFrame.\n",
        "assert type(mediana_faltantes(ventas)) == type(ventas), f\"Tu función debe retornar un objeto de tipo '{type(ventas).__name__}'.\"\n",
        "\n",
        "# Caso 4: retorna un dataframe con cantidad de columnas errada\n",
        "assert mediana_faltantes(ventas).shape[1] == 3, \"Tu función retorna un DataFrame con cantidad de columnas errada.\"\n",
        "\n",
        "# Caso 5: devuelve un dataframe con cantidad de filas errada\n",
        "assert mediana_faltantes(ventas).shape[0] == 5, \"Tu función retorna un DataFrame con cantidad de filas errada.\"\n",
        "\n",
        "# Caso 5: no hay valores na\n",
        "assert mediana_faltantes(ventas).isnull().sum().sum() == 0, \"Tu función retorna un DataFrame con valores faltantes.\"\n",
        "assert mediana_faltantes(ventas_prueba).isnull().sum().sum() == 0, \"Tu función retorna un DataFrame con valores faltantes.\"\n",
        "# Caso 6: Los espacios vacios se llenan con la mediana\n",
        "assert mediana_faltantes(ventas_prueba).iat[3,0] == 3000.0, \"Tu función retorna un DataFrame que no llena los valores faltantes con la mediana.\"\n",
        "assert mediana_faltantes(ventas_prueba).iat[2,2] == 6000.0, \"Tu función retorna un DataFrame que no llena los valores faltantes con la mediana.\"\n",
        "#respuestas \n",
        "try:\n",
        "    assert mediana_faltantes(ventas).iat[2,0] == 4000\n",
        "    assert mediana_faltantes(ventas).iat[3,1] == 9500\n",
        "except AssertionError as e:\n",
        "    e.args += (\"Tu función retorna un DataFrame que no llena los valores faltantes con la mediana.\",)\n",
        "    raise e\n",
        "    \n",
        "\n",
        "print(\"Felicidades, realizaste este ejercicio correctamente.\")"
      ],
      "execution_count": 18,
      "outputs": [
        {
          "output_type": "stream",
          "name": "stdout",
          "text": [
            "Felicidades, realizaste este ejercicio correctamente.\n"
          ]
        }
      ]
    },
    {
      "cell_type": "markdown",
      "metadata": {
        "deletable": false,
        "editable": false,
        "nbgrader": {
          "cell_type": "markdown",
          "checksum": "a7e45fa4a71783b43e5a72bf2bd49646",
          "grade": false,
          "grade_id": "ej4_enun",
          "locked": true,
          "schema_version": 3,
          "solution": false,
          "task": false
        },
        "id": "vgD31QnUfyZZ"
      },
      "source": [
        "### Ejercicio 4\n",
        "\n",
        "En la siguiente celda encuentras declarados dos `DataFrame` que almacenan los datos de los clientes de un negocio."
      ]
    },
    {
      "cell_type": "code",
      "metadata": {
        "deletable": false,
        "editable": false,
        "nbgrader": {
          "cell_type": "code",
          "checksum": "3800795438f6024d21d6c1f1782381b3",
          "grade": false,
          "grade_id": "ej4_data",
          "locked": true,
          "schema_version": 3,
          "solution": false,
          "task": false
        },
        "id": "axcwt9hgfyZa"
      },
      "source": [
        "clientes = pd.DataFrame([[3002, \"Masculino\", \"No\"],\n",
        "                         [3001, \"Femenino\",  \"No\"],\n",
        "                         [3003, \"Femenino\",  \"Sí\"]],\n",
        "                        columns = [\"id_cliente\", \"Sexo\", \"Cliente Premium\"])"
      ],
      "execution_count": 20,
      "outputs": []
    },
    {
      "cell_type": "markdown",
      "metadata": {
        "deletable": false,
        "editable": false,
        "nbgrader": {
          "cell_type": "markdown",
          "checksum": "e8e729ce8802dd58f6c9b65ff740b87a",
          "grade": false,
          "grade_id": "ej4_task",
          "locked": true,
          "schema_version": 3,
          "solution": false,
          "task": false
        },
        "id": "Hjbn6voufyZb"
      },
      "source": [
        "Implemente una función llamada `cliente_dummies` que reciba por parámetro un `DataFrame` como el declarado en la celda anterior, y retorne un `DataFrame` con la representación en variables *dummy* de las columnas `\"Sexo\"` y `\"Cliente Premium\"`.\n",
        "\n",
        "* La varable `\"Sexo\"` debe ser representada por un 1 si su valor es `\"Femenino\"` y cero de lo contrario.\n",
        "* La varable `\"Cliente Premium\"` debe ser representada por un 1 si su valor es `\"No\"` y cero de lo contrario.\n",
        "\n",
        "La función deber retornar un `DataFrame` con la misma cantidad de filas y columnas, pero números binarios en lugar de los registros de sexo y si es cliente premium."
      ]
    },
    {
      "cell_type": "code",
      "metadata": {
        "deletable": false,
        "nbgrader": {
          "cell_type": "code",
          "checksum": "0ae9c7b0894fd6d049e9be8483157a8d",
          "grade": false,
          "grade_id": "ej4_sol",
          "locked": false,
          "schema_version": 3,
          "solution": true,
          "task": false
        },
        "colab": {
          "base_uri": "https://localhost:8080/",
          "height": 209
        },
        "id": "EDij3901fyZd",
        "outputId": "232aa122-4caa-487b-f44b-3be8af0e1717"
      },
      "source": [
        "# YOUR CODE HERE\n",
        "\n",
        "def cliente_dummies(dataframe):\n",
        "  dataframe = pd.get_dummies(dataframe, columns = [\"Sexo\"], drop_first = False)\n",
        "  dataframe = dataframe.drop([\"Sexo_Masculino\"], axis = 1)\n",
        "  dataframe = dataframe.rename(columns={\"Sexo_Femenino\": \"Sexo\"})\n",
        "\n",
        "  dataframe = pd.get_dummies(dataframe, columns = [\"Cliente Premium\"], drop_first = False)\n",
        "  dataframe = dataframe.drop([\"Cliente Premium_Sí\"], axis = 1)\n",
        "  dataframe = dataframe.rename(columns={\"Cliente Premium_No\": \"Cliente Premium\"})\n",
        "  print(dataframe)\n",
        "  return dataframe\n",
        "\n",
        "cliente_dummies(clientes)"
      ],
      "execution_count": 23,
      "outputs": [
        {
          "output_type": "stream",
          "name": "stdout",
          "text": [
            "   id_cliente  Sexo  Cliente Premium\n",
            "0        3002     0                1\n",
            "1        3001     1                1\n",
            "2        3003     1                0\n"
          ]
        },
        {
          "output_type": "execute_result",
          "data": {
            "text/html": [
              "<div>\n",
              "<style scoped>\n",
              "    .dataframe tbody tr th:only-of-type {\n",
              "        vertical-align: middle;\n",
              "    }\n",
              "\n",
              "    .dataframe tbody tr th {\n",
              "        vertical-align: top;\n",
              "    }\n",
              "\n",
              "    .dataframe thead th {\n",
              "        text-align: right;\n",
              "    }\n",
              "</style>\n",
              "<table border=\"1\" class=\"dataframe\">\n",
              "  <thead>\n",
              "    <tr style=\"text-align: right;\">\n",
              "      <th></th>\n",
              "      <th>id_cliente</th>\n",
              "      <th>Sexo</th>\n",
              "      <th>Cliente Premium</th>\n",
              "    </tr>\n",
              "  </thead>\n",
              "  <tbody>\n",
              "    <tr>\n",
              "      <th>0</th>\n",
              "      <td>3002</td>\n",
              "      <td>0</td>\n",
              "      <td>1</td>\n",
              "    </tr>\n",
              "    <tr>\n",
              "      <th>1</th>\n",
              "      <td>3001</td>\n",
              "      <td>1</td>\n",
              "      <td>1</td>\n",
              "    </tr>\n",
              "    <tr>\n",
              "      <th>2</th>\n",
              "      <td>3003</td>\n",
              "      <td>1</td>\n",
              "      <td>0</td>\n",
              "    </tr>\n",
              "  </tbody>\n",
              "</table>\n",
              "</div>"
            ],
            "text/plain": [
              "   id_cliente  Sexo  Cliente Premium\n",
              "0        3002     0                1\n",
              "1        3001     1                1\n",
              "2        3003     1                0"
            ]
          },
          "metadata": {},
          "execution_count": 23
        }
      ]
    },
    {
      "cell_type": "code",
      "metadata": {
        "deletable": false,
        "editable": false,
        "nbgrader": {
          "cell_type": "code",
          "checksum": "5b29932d57175f62d233c1fae9c71a9b",
          "grade": true,
          "grade_id": "ej4_test",
          "locked": true,
          "points": 1,
          "schema_version": 3,
          "solution": false,
          "task": false
        },
        "colab": {
          "base_uri": "https://localhost:8080/"
        },
        "id": "2kSOFcIdfyZe",
        "outputId": "303809f7-0d90-4f9b-bfeb-4843c12326ca"
      },
      "source": [
        "## AUTO-CALIFICADOR\n",
        "\n",
        "# Base variables\n",
        "clientes = pd.DataFrame([[3002, \"Masculino\", \"No\"],\n",
        "                         [3001, \"Femenino\",  \"No\"],\n",
        "                         [3003, \"Femenino\",  \"Sí\"]],\n",
        "                        columns = [\"id_cliente\", \"Sexo\", \"Cliente Premium\"])\n",
        "\n",
        "clientes_prueba = pd.DataFrame([[3002, \"Masculino\", \"Sí\"],\n",
        "                         [3001, \"Masculino\",  \"No\"],\n",
        "                         [3003, \"Femenino\",  \"Sí\"]],\n",
        "                        columns = [\"id_cliente\", \"Sexo\", \"Cliente Premium\"])\n",
        "\n",
        "# Caso 1: no existe la función.\n",
        "try:\n",
        "    cliente_dummies\n",
        "    assert type(cliente_dummies) == type(lambda:None)\n",
        "except:\n",
        "    raise NotImplementedError(\"No existe una función llamada cliente_dummies.\",)\n",
        "\n",
        "# Caso 2: la función es interrumpida por errores durante su ejecución.\n",
        "try:\n",
        "    cliente_dummies(clientes)\n",
        "except:\n",
        "    raise RuntimeError(\"Tu función produce un error al ejecutarse.\")\n",
        "\n",
        "# Caso 3: no retorna un DataFrame.\n",
        "assert type(cliente_dummies(clientes)) == type(clientes), f\"Tu función debe retornar un objeto de tipo '{type(clientes).__name__}'.\"\n",
        "\n",
        "# Caso 4: retorna un dataframe con cantidad de columnas errada\n",
        "assert cliente_dummies(clientes).shape[1] == 3, \"Tu función retorna un DataFrame con cantidad de columnas errada.\"\n",
        "\n",
        "# Caso 5: devuelve un dataframe con cantidad de filas errada\n",
        "assert cliente_dummies(clientes).shape[0] == 3, \"Tu función retorna un DataFrame con cantidad de filas errada.\"\n",
        "\n",
        "#Caso 6: Tu funcion no retorna los dummies que son (prueba)\n",
        "assert cliente_dummies(clientes_prueba).iat[1,1] == 0,\"Tu función retorna un DataFrame con los valores incorrectos.\"\n",
        "assert cliente_dummies(clientes_prueba).iat[1,2] == 1,\"Tu función retorna un DataFrame con los valores incorrectos.\"\n",
        "\n",
        "\n",
        "print(\"Felicidades, realizaste este ejercicio correctamente.\")\n"
      ],
      "execution_count": 24,
      "outputs": [
        {
          "output_type": "stream",
          "name": "stdout",
          "text": [
            "   id_cliente  Sexo  Cliente Premium\n",
            "0        3002     0                1\n",
            "1        3001     1                1\n",
            "2        3003     1                0\n",
            "   id_cliente  Sexo  Cliente Premium\n",
            "0        3002     0                1\n",
            "1        3001     1                1\n",
            "2        3003     1                0\n",
            "   id_cliente  Sexo  Cliente Premium\n",
            "0        3002     0                1\n",
            "1        3001     1                1\n",
            "2        3003     1                0\n",
            "   id_cliente  Sexo  Cliente Premium\n",
            "0        3002     0                1\n",
            "1        3001     1                1\n",
            "2        3003     1                0\n",
            "   id_cliente  Sexo  Cliente Premium\n",
            "0        3002     0                0\n",
            "1        3001     0                1\n",
            "2        3003     1                0\n",
            "   id_cliente  Sexo  Cliente Premium\n",
            "0        3002     0                0\n",
            "1        3001     0                1\n",
            "2        3003     1                0\n",
            "Felicidades, realizaste este ejercicio correctamente.\n"
          ]
        }
      ]
    },
    {
      "cell_type": "markdown",
      "metadata": {
        "deletable": false,
        "editable": false,
        "nbgrader": {
          "cell_type": "markdown",
          "checksum": "c8a5c0692cba58d28b16c971524ed425",
          "grade": false,
          "grade_id": "ej5_enun",
          "locked": true,
          "schema_version": 3,
          "solution": false,
          "task": false
        },
        "id": "zvtWIOe8fyZf"
      },
      "source": [
        "### Ejercicio 5\n",
        "\n",
        "En la siguiente celda encuentras declarada una fecha tipo cadena de caracteres."
      ]
    },
    {
      "cell_type": "code",
      "metadata": {
        "deletable": false,
        "editable": false,
        "nbgrader": {
          "cell_type": "code",
          "checksum": "74b067357b6eae702c0f29d47931f19a",
          "grade": false,
          "grade_id": "ej5_data",
          "locked": true,
          "schema_version": 3,
          "solution": false,
          "task": false
        },
        "id": "vJFnBpLffyZg"
      },
      "source": [
        "fecha_string = \"2020-10-December\""
      ],
      "execution_count": 25,
      "outputs": []
    },
    {
      "cell_type": "markdown",
      "metadata": {
        "deletable": false,
        "editable": false,
        "nbgrader": {
          "cell_type": "markdown",
          "checksum": "1691f1ab09ab21fa10b90bf2c7e3f9e0",
          "grade": false,
          "grade_id": "ej5_task",
          "locked": true,
          "schema_version": 3,
          "solution": false,
          "task": false
        },
        "id": "5DaOepydfyZk"
      },
      "source": [
        "Implemente una función llamada `cadena_a_fecha` que reciba por parámetro una cadena como la declarada en la celda anterior y retorne un objeto de tipo `datetime` que represente la misma fecha.\n",
        "\n",
        "La función deber retornar un objeto de tipo `datetime`."
      ]
    },
    {
      "cell_type": "code",
      "metadata": {
        "deletable": false,
        "nbgrader": {
          "cell_type": "code",
          "checksum": "b69e32a303cf2857a07e7c82634b477e",
          "grade": false,
          "grade_id": "ej5_sol",
          "locked": false,
          "schema_version": 3,
          "solution": true,
          "task": false
        },
        "colab": {
          "base_uri": "https://localhost:8080/"
        },
        "id": "GOJkt5WRfyZn",
        "outputId": "4e72b36e-ab27-4e60-caac-b517ee34a198"
      },
      "source": [
        "# YOUR CODE HERE\n",
        "\n",
        "def cadena_a_fecha(cadena):\n",
        "  fecha = datetime.strptime(cadena, \"%Y-%d-%B\")\n",
        "  print(fecha)\n",
        "  print()\n",
        "  return fecha\n",
        "\n",
        "cadena_a_fecha(fecha_string)"
      ],
      "execution_count": 28,
      "outputs": [
        {
          "output_type": "stream",
          "name": "stdout",
          "text": [
            "2020-12-10 00:00:00\n",
            "\n"
          ]
        },
        {
          "output_type": "execute_result",
          "data": {
            "text/plain": [
              "datetime.datetime(2020, 12, 10, 0, 0)"
            ]
          },
          "metadata": {},
          "execution_count": 28
        }
      ]
    },
    {
      "cell_type": "code",
      "metadata": {
        "deletable": false,
        "editable": false,
        "nbgrader": {
          "cell_type": "code",
          "checksum": "b61fa878c96f9dd0493839f69cb90965",
          "grade": true,
          "grade_id": "ej5_test",
          "locked": true,
          "points": 1,
          "schema_version": 3,
          "solution": false,
          "task": false
        },
        "colab": {
          "base_uri": "https://localhost:8080/"
        },
        "id": "6BqeiP5WfyZo",
        "outputId": "35741ea9-901f-4b6f-8531-2e942899402a"
      },
      "source": [
        "## AUTO-CALIFICADOR\n",
        "\n",
        "# Base variables\n",
        "\n",
        "fecha_string = \"2020-10-December\"\n",
        "\n",
        "fecha_string_prueba = \"2021-20-October\"\n",
        "\n",
        "# Caso 1: no existe la función.\n",
        "try:\n",
        "    cadena_a_fecha\n",
        "    assert type(cadena_a_fecha) == type(lambda:None)\n",
        "except:\n",
        "    raise NotImplementedError(\"No existe una función llamada cadena_a_fecha.\",)\n",
        "\n",
        "# Caso 2: la función es interrumpida por errores durante su ejecución.\n",
        "try:\n",
        "    cadena_a_fecha\n",
        "except:\n",
        "    raise RuntimeError(\"Tu función produce un error al ejecutarse.\")\n",
        "\n",
        "# Caso 3: no retorna un Datetime.\n",
        "assert type(cadena_a_fecha(fecha_string)) == datetime, f\"Tu función debe retornar un objeto de tipo '{datetime.__name__}'.\"\n",
        "\n",
        "#Caso 4: retorna la fecha correcta\n",
        "assert cadena_a_fecha(fecha_string_prueba) == datetime(2021, 10, 20, 0, 0), f\"Tu respuesta es incorrecta.\"\n",
        "assert cadena_a_fecha(fecha_string) == datetime(2020, 12, 10, 0, 0), f\"Tu respuesta es incorrecta.\"\n",
        "\n",
        "\n",
        "print(\"Felicidades, realizaste este ejercicio correctamente.\")"
      ],
      "execution_count": 29,
      "outputs": [
        {
          "output_type": "stream",
          "name": "stdout",
          "text": [
            "2020-12-10 00:00:00\n",
            "\n",
            "2021-10-20 00:00:00\n",
            "\n",
            "2020-12-10 00:00:00\n",
            "\n",
            "Felicidades, realizaste este ejercicio correctamente.\n"
          ]
        }
      ]
    },
    {
      "cell_type": "markdown",
      "metadata": {
        "deletable": false,
        "editable": false,
        "nbgrader": {
          "cell_type": "markdown",
          "checksum": "6f47da504d3302968b74fe4b880869cd",
          "grade": false,
          "grade_id": "ej6_enun",
          "locked": true,
          "schema_version": 3,
          "solution": false,
          "task": false
        },
        "id": "GSuaSmjPfyZp"
      },
      "source": [
        "### Ejercicio 6\n",
        "\n",
        "Junto a este Notebook encontrarás dos archivos de Excel. Cada uno de estos archivos contiene una base de datos, ambas provistas por el Banco de la República.\n",
        "\n",
        "La primera base de datos (`\"1.1.TIB_Serie historica IQY.xlsx\"`) corresponde a la tasa a la que se puede prestar o pedir prestado entre los bancos.\n",
        "\n",
        "La segunda base de datos (`\"1.2.TIP_Serie historica diaria IQY.xlsx\"`) corresponde a la tasa de interés de referencia fijada por el Banco de la República.\n",
        "\n",
        "Implemente una función llamada `union_izquierda` que no reciba parámetros, importe los datos de los archivos de Excel y retorne un `DataFrame` resultado de la unión, donde se preserven todas las filas de los datos de la Tasa Interbancaria y solo las que coincidan de la Tasa de Intervención Pública. La coincidencia debe hacerse evaluando la columna \"Fecha\".\n",
        "\n",
        "La función debe retornar un `DataFrame`."
      ]
    },
    {
      "cell_type": "code",
      "metadata": {
        "deletable": false,
        "nbgrader": {
          "cell_type": "code",
          "checksum": "a0a4127af2c52eb5db9bf6e22ad201a5",
          "grade": false,
          "grade_id": "ej6_sol",
          "locked": false,
          "schema_version": 3,
          "solution": true,
          "task": false
        },
        "id": "JAlo-GjJfyZp"
      },
      "source": [
        "# YOUR CODE HERE\n",
        "raise NotImplementedError()"
      ],
      "execution_count": null,
      "outputs": []
    },
    {
      "cell_type": "code",
      "metadata": {
        "deletable": false,
        "editable": false,
        "nbgrader": {
          "cell_type": "code",
          "checksum": "36808419b7ac5c3531421805b3fccbae",
          "grade": true,
          "grade_id": "ej6_test",
          "locked": true,
          "points": 1,
          "schema_version": 3,
          "solution": false,
          "task": false
        },
        "id": "BC1cZzcEfyZq"
      },
      "source": [
        "## AUTO-CALIFICADOR\n",
        "\n",
        "# Caso 1: no existe la función.\n",
        "try:\n",
        "    union_izquierda\n",
        "    assert type(union_izquierda) == type(lambda:None)\n",
        "except:\n",
        "    raise NotImplementedError(\"No existe una función llamada union_izquierda.\",)\n",
        "\n",
        "# Caso 2: la función es interrumpida por errores durante su ejecución.\n",
        "try:\n",
        "    union_izquierda\n",
        "except:\n",
        "    raise RuntimeError(\"Tu función produce un error al ejecutarse.\")\n",
        "\n",
        "# Caso 3: no retorna un Dataframe.\n",
        "assert type(union_izquierda()) == pd.core.frame.DataFrame, f\"Tu función debe retornar un objeto de tipo '{pd.core.frame.DataFrame.__name__}'.\"\n",
        "\n",
        "\n",
        "print(\"Felicidades, realizaste este ejercicio correctamente.\")"
      ],
      "execution_count": null,
      "outputs": []
    },
    {
      "cell_type": "markdown",
      "metadata": {
        "deletable": false,
        "editable": false,
        "nbgrader": {
          "cell_type": "markdown",
          "checksum": "78bbd361b0f5a11c89785a31d7a1e6d2",
          "grade": false,
          "grade_id": "ej7_enun",
          "locked": true,
          "schema_version": 3,
          "solution": false,
          "task": false
        },
        "id": "RPlg61tUfyZr"
      },
      "source": [
        "### Ejercicio 7\n",
        "\n",
        "Crea una función que reciba un `DataFrame` y retorne en una lista el nombre de las columnas que tienen más de 1 dato faltante. Puedes usar el `DataFrame` de la celda de código para probar que tu función este obteniendo el resultado correctamente. Vale aclarar que se usarán otros `DataFrame` para poner a prueba tu función.\n",
        "\n",
        "La función, con nombre `ejercicio7`, debe retornar una lista."
      ]
    },
    {
      "cell_type": "code",
      "metadata": {
        "deletable": false,
        "editable": false,
        "nbgrader": {
          "cell_type": "code",
          "checksum": "e23441acde24b3597842f59b3fb8393e",
          "grade": false,
          "grade_id": "ej7_data",
          "locked": true,
          "schema_version": 3,
          "solution": false,
          "task": false
        },
        "id": "Mv-qwK5CfyaC"
      },
      "source": [
        "df = pd.DataFrame({'no_orden':    [70001,np.nan,70002,70004,np.nan,70005,np.nan,70010,70003,70012,np.nan,70013],\n",
        "                   'monto US$':   [150.5,270.65,65.26,110.5,948.5,2400.6,5760,1983.43,2480.4,250.45, 75.29,3045.6],\n",
        "                   'Fecha Orden': ['2012-10-05','2012-09-10',np.nan,'2012-08-17','2012-09-10','2012-07-27','2012-09-10','2012-10-10','2012-10-10','2012-06-27','2012-08-17','2012-04-25'],\n",
        "                   'idCliente':   [3002,3001,3001,3003,3002,3001,3001,3004,3003,3002,3001,3001],\n",
        "                   'idVendedor':  [5002,5003,5001,np.nan,5002,5001,5001,np.nan,5003,5002,5003,np.nan]})"
      ],
      "execution_count": null,
      "outputs": []
    },
    {
      "cell_type": "code",
      "metadata": {
        "deletable": false,
        "nbgrader": {
          "cell_type": "code",
          "checksum": "30aea8a71fd3d572271a37b395eb9af5",
          "grade": false,
          "grade_id": "ej7_sol",
          "locked": false,
          "schema_version": 3,
          "solution": true,
          "task": false
        },
        "id": "UMZdyWalfyaD"
      },
      "source": [
        "# YOUR CODE HERE\n",
        "raise NotImplementedError()"
      ],
      "execution_count": null,
      "outputs": []
    },
    {
      "cell_type": "code",
      "metadata": {
        "deletable": false,
        "editable": false,
        "nbgrader": {
          "cell_type": "code",
          "checksum": "2146a7fba1d4989b240d2a1f982b4c95",
          "grade": true,
          "grade_id": "ej7_test",
          "locked": true,
          "points": 1,
          "schema_version": 3,
          "solution": false,
          "task": false
        },
        "id": "09pYdDABfyaE"
      },
      "source": [
        "## AUTO-CALIFICADOR\n",
        "\n",
        "# Base variables\n",
        "\n",
        "df = pd.DataFrame({\n",
        "    'no_orden':[70001,np.nan,70002,70004,np.nan,70005,np.nan,70010,70003,70012,np.nan,70013],\n",
        "    'monto US$':[150.5,270.65,65.26,110.5,948.5,2400.6,5760,1983.43,2480.4,250.45, 75.29,3045.6],\n",
        "    'Fecha Orden': ['2012-10-05','2012-09-10',np.nan,'2012-08-17','2012-09-10','2012-07-27','2012-09-10','2012-10-10','2012-10-10','2012-06-27','2012-08-17','2012-04-25'],\n",
        "    'idCliente':[3002,3001,3001,3003,3002,3001,3001,3004,3003,3002,3001,3001],\n",
        "    'idVendedor':[5002,5003,5001,np.nan,5002,5001,5001,np.nan,5003,5002,5003,np.nan]})\n",
        "\n",
        "df_prueba = pd.DataFrame({\n",
        "    'no_orden':[70001,np.nan,70002,70004,np.nan,70005,np.nan,70010,70003,70012,np.nan,70013],\n",
        "    'monto US$':[150.5,270.65,65.26,110.5,948.5,2400.6,5760,1983.43,2480.4,250.45, 75.29,3045.6],\n",
        "    'Fecha Orden': ['2012-10-05','2012-09-10',np.nan,'2012-08-17','2012-09-10','2012-07-27','2012-09-10','2012-10-10','2012-10-10','2012-06-27','2012-08-17','2012-04-25'],\n",
        "    'idCliente':[3002,3001,3001,3003,3002,np.nan,3001,np.nan,3003,3002,3001,3001],\n",
        "    'idVendedor':[5002,5003,5001,5003,5002,5001,5001,5001,5003,5002,5003,np.nan]})\n",
        "\n",
        "# Caso 1: no existe la función.\n",
        "try:\n",
        "    ejercicio7\n",
        "    assert type(ejercicio7) == type(lambda:None)\n",
        "except:\n",
        "    raise NotImplementedError(\"No existe una función llamada ejercicio7.\",)\n",
        "\n",
        "# Caso 2: la función es interrumpida por errores durante su ejecución.\n",
        "try:\n",
        "    ejercicio7\n",
        "except:\n",
        "    raise RuntimeError(\"Tu función produce un error al ejecutarse.\")\n",
        "\n",
        "# Caso 3: no retorna un Dataframe.\n",
        "assert type(ejercicio7(df)) == list, f\"Tu función debe retornar un objeto de tipo '{list.__name__}'.\"\n",
        "\n",
        "# Caso 4: Probar con otro Dataframe que sean esas dos.\n",
        "assert ejercicio7(df_prueba) == ['no_orden', 'idCliente'], f\"Tu respuesta es incorrecta.\"\n",
        "\n",
        "\n",
        "print(\"Felicidades, realizaste este ejercicio correctamente.\")"
      ],
      "execution_count": null,
      "outputs": []
    },
    {
      "cell_type": "markdown",
      "metadata": {
        "deletable": false,
        "editable": false,
        "nbgrader": {
          "cell_type": "markdown",
          "checksum": "64d2549d11748f0308cfee96880fa31f",
          "grade": false,
          "grade_id": "ej8_enun",
          "locked": true,
          "schema_version": 3,
          "solution": false,
          "task": false
        },
        "id": "gnqjEvYvfyaF"
      },
      "source": [
        "### Ejercicio 8\n",
        "\n",
        "Colombia es un país con un gran número de días feriados. En la carpeta de este taller encontrará una base de datos (`\"Festivos.xlsx\"`) que contiene estas fechas. Esta base de datos organiza en columnas los festivos de cada año, desde el año 2001 hasta el año 2019. Todos los festivos se presentan con el mismo formato: \n",
        "\n",
        "    6 Enero Día de los Reyes Magos\n",
        "\n",
        "Debe crear una función que procese la base de datos de festivos, de manera que retorne un objeto de tipo `DatetimeIndex` con todos los festivos que se han presentado en Colombia desde el año 2012 hasta el año 2020. \n",
        "\n",
        "Al imprimirse, el objeto tendría el siguientes aspecto:\n",
        "\n",
        "    DatetimeIndex(['2001-01-01', '2001-01-08', '2001-03-19', '2001-04-12',\n",
        "                   '2001-04-13', '2001-05-01', '2001-05-28', '2001-06-18',\n",
        "                   '2001-06-25', '2001-07-02',\n",
        "                   ...\n",
        "                   '2020-06-29', '2020-07-20', '2020-08-07', '2020-08-17',\n",
        "                   '2020-10-12', '2020-11-02', '2020-11-16', '2020-12-08',\n",
        "                   '2020-12-25', '2020-12-31'],\n",
        "                   dtype = 'datetime64[ns]', name = 'Fecha', length = 380, freq = None)\n",
        "    \n",
        "En la caja de código se le incluirá una lista con los meses del año. Esta lista le puede resultar de utilidad para procesar la información del `DataFrame`.\n",
        "\n",
        "La función, con nombre `ejercicio8`, debe retornar un objeto `DatetimeIndex`."
      ]
    },
    {
      "cell_type": "code",
      "metadata": {
        "deletable": false,
        "editable": false,
        "nbgrader": {
          "cell_type": "code",
          "checksum": "87a7d421bd262f80c60686d3d8bd4a44",
          "grade": false,
          "grade_id": "ej8_data",
          "locked": true,
          "schema_version": 3,
          "solution": false,
          "task": false
        },
        "id": "LFl_tbCLfyaI"
      },
      "source": [
        "lista_meses = [\"Enero\",      \"Febrero\", \"Marzo\",     \"Abril\",\n",
        "               \"Mayo\",       \"Junio\",   \"Julio\",     \"Agosto\",\n",
        "               \"Septiembre\", \"Octubre\", \"Noviembre\", \"Diciembre\"] "
      ],
      "execution_count": null,
      "outputs": []
    },
    {
      "cell_type": "code",
      "metadata": {
        "deletable": false,
        "nbgrader": {
          "cell_type": "code",
          "checksum": "1468cf9ce400b720ec92eae5696b54d8",
          "grade": false,
          "grade_id": "ej8_sol",
          "locked": false,
          "schema_version": 3,
          "solution": true,
          "task": false
        },
        "id": "8qK0C1yWfyaJ"
      },
      "source": [
        "# YOUR CODE HERE\n",
        "raise NotImplementedError()"
      ],
      "execution_count": null,
      "outputs": []
    },
    {
      "cell_type": "code",
      "metadata": {
        "deletable": false,
        "editable": false,
        "nbgrader": {
          "cell_type": "code",
          "checksum": "a0090bf40aed397a5aad80d5312614c6",
          "grade": true,
          "grade_id": "ej8_test",
          "locked": true,
          "points": 1,
          "schema_version": 3,
          "solution": false,
          "task": false
        },
        "id": "BaQ8Z3NGfyaK"
      },
      "source": [
        "## AUTO-CALIFICADOR\n",
        "\n",
        "# Base variables\n",
        "lista_meses = [\"Enero\", \"Febrero\", \"Marzo\", \"Abril\", \"Mayo\", \"Junio\", \"Julio\", \"Agosto\", \"Septiembre\",\n",
        "               \"Octubre\", \"Noviembre\", \"Diciembre\"] \n",
        "\n",
        "# Caso 1: no existe la función.\n",
        "try:\n",
        "    ejercicio8\n",
        "    assert type(ejercicio8) == type(lambda:None)\n",
        "except:\n",
        "    raise NotImplementedError(\"No existe una función llamada ejercicio8.\",)\n",
        "\n",
        "# Caso 2: la función es interrumpida por errores durante su ejecución.\n",
        "try:\n",
        "    ejercicio8\n",
        "except:\n",
        "    raise RuntimeError(\"Tu función produce un error al ejecutarse.\")\n",
        "\n",
        "# Caso 3: no retorna un Datatimeindex.\n",
        "assert type(ejercicio8()) == pd.core.indexes.datetimes.DatetimeIndex, f\"Tu función debe retornar un objeto de tipo '{pd.core.indexes.datetimes.DatetimeIndex.__name__}'.\"\n",
        "\n",
        "# Caso 4: retorna un dataframe con cantidad de columnas errada\n",
        "assert len(ejercicio8()) == 171, \"Tu función retorna un objeto DatetimeIndex con una longitud incorrecta.\"\n",
        "\n",
        "print(\"Felicidades, realizaste este ejercicio correctamente.\")\n"
      ],
      "execution_count": null,
      "outputs": []
    },
    {
      "cell_type": "markdown",
      "metadata": {
        "deletable": false,
        "editable": false,
        "nbgrader": {
          "cell_type": "markdown",
          "checksum": "fd63f3958c164451cc494a67632fbde4",
          "grade": false,
          "grade_id": "refs",
          "locked": true,
          "schema_version": 3,
          "solution": false,
          "task": false
        },
        "id": "BxzAkZ_2fyaL"
      },
      "source": [
        "## Referencias\n",
        "\n",
        "Banco de la República (2020). 1.2.TIP_Serie histórica diaria IQY.xlsx [Base deDatos]. Recuperado el 15 de Noviembre de 2020 de :\n",
        "https://www.banrep.gov.co/es/estadisticas/tasas-interes-politica-monetaria\n",
        "\n",
        "Banco de la República (2020). 1.1.TIB_Serie histórica IQY.xlsx [Base deDatos]. Recuperado el 15 de Noviembre de 2020 de :\n",
        "https://www.banrep.gov.co/es/estadisticas/tasa-interbancaria-tib"
      ]
    },
    {
      "cell_type": "markdown",
      "metadata": {
        "deletable": false,
        "editable": false,
        "nbgrader": {
          "cell_type": "markdown",
          "checksum": "b97f8df5b9e2be5a47830d50935415b4",
          "grade": false,
          "grade_id": "creds",
          "locked": true,
          "schema_version": 3,
          "solution": false,
          "task": false
        },
        "id": "sMHQItRifyaL"
      },
      "source": [
        "## Créditos\n",
        "\n",
        "**Autor(es)**: Jorge Esteban Camargo Forero, Juan David Reyes Jaimes, Alejandro Mantilla Redondo, Diego Alejandro Cely Gomez\n",
        "\n",
        "**Última actualización:** 17/09/2021"
      ]
    }
  ]
}